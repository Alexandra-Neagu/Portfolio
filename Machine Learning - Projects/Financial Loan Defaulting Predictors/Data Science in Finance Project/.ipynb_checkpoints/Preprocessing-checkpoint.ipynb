{
 "cells": [
  {
   "cell_type": "code",
   "execution_count": 239,
   "id": "9d9d213f",
   "metadata": {},
   "outputs": [],
   "source": [
    "import pandas as pd\n",
    "import numpy as np\n",
    "import seaborn as sns\n",
    "import matplotlib.pyplot as plt"
   ]
  },
  {
   "cell_type": "markdown",
   "id": "bcda8f2e",
   "metadata": {},
   "source": [
    "## Reading the data\n",
    "You might get a `DtypeWarning`; ignore it now, if necessary, deal with it later."
   ]
  },
  {
   "cell_type": "code",
   "execution_count": 240,
   "id": "61dadd97",
   "metadata": {},
   "outputs": [
    {
     "name": "stderr",
     "output_type": "stream",
     "text": [
      "C:\\Users\\neagu\\AppData\\Local\\Temp\\ipykernel_28440\\1303556865.py:2: DtypeWarning: Columns (16) have mixed types. Specify dtype option on import or set low_memory=False.\n",
      "  df = pd.read_csv('LendingClub_wi3435TU.csv')\n"
     ]
    }
   ],
   "source": [
    "# Loading the raw dataset\n",
    "df = pd.read_csv('LendingClub_wi3435TU.csv')"
   ]
  },
  {
   "cell_type": "code",
   "execution_count": 241,
   "id": "6339722d",
   "metadata": {},
   "outputs": [
    {
     "name": "stdout",
     "output_type": "stream",
     "text": [
      "<class 'pandas.core.frame.DataFrame'>\n",
      "RangeIndex: 217452 entries, 0 to 217451\n",
      "Columns: 124 entries, id to settlement_term\n",
      "dtypes: float64(88), int64(1), object(35)\n",
      "memory usage: 205.7+ MB\n"
     ]
    }
   ],
   "source": [
    "df.info()"
   ]
  },
  {
   "cell_type": "markdown",
   "id": "e6438e5f",
   "metadata": {},
   "source": [
    "#### Loading the data dictionary\n",
    "The field descriptions are read in as a Pandas data frame and then extended to a (Pandas) data frame `preview` for a first peek at the data."
   ]
  },
  {
   "cell_type": "code",
   "execution_count": 242,
   "id": "6f28b687",
   "metadata": {},
   "outputs": [
    {
     "data": {
      "text/html": [
       "<div>\n",
       "<style scoped>\n",
       "    .dataframe tbody tr th:only-of-type {\n",
       "        vertical-align: middle;\n",
       "    }\n",
       "\n",
       "    .dataframe tbody tr th {\n",
       "        vertical-align: top;\n",
       "    }\n",
       "\n",
       "    .dataframe thead th {\n",
       "        text-align: right;\n",
       "    }\n",
       "</style>\n",
       "<table border=\"1\" class=\"dataframe\">\n",
       "  <thead>\n",
       "    <tr style=\"text-align: right;\">\n",
       "      <th></th>\n",
       "      <th>name</th>\n",
       "      <th>description</th>\n",
       "    </tr>\n",
       "  </thead>\n",
       "  <tbody>\n",
       "    <tr>\n",
       "      <th>0</th>\n",
       "      <td>acc_now_delinq</td>\n",
       "      <td>The number of accounts on which the borrower is now delinquent.</td>\n",
       "    </tr>\n",
       "    <tr>\n",
       "      <th>1</th>\n",
       "      <td>acc_open_past_24mths</td>\n",
       "      <td>Number of trades opened in past 24 months.</td>\n",
       "    </tr>\n",
       "    <tr>\n",
       "      <th>2</th>\n",
       "      <td>addr_state</td>\n",
       "      <td>The state provided by the borrower in the loan application</td>\n",
       "    </tr>\n",
       "    <tr>\n",
       "      <th>3</th>\n",
       "      <td>all_util</td>\n",
       "      <td>Balance to credit limit on all trades</td>\n",
       "    </tr>\n",
       "    <tr>\n",
       "      <th>4</th>\n",
       "      <td>annual_inc</td>\n",
       "      <td>The self-reported annual income provided by the borrower during registration.</td>\n",
       "    </tr>\n",
       "  </tbody>\n",
       "</table>\n",
       "</div>"
      ],
      "text/plain": [
       "                   name  \\\n",
       "0        acc_now_delinq   \n",
       "1  acc_open_past_24mths   \n",
       "2            addr_state   \n",
       "3              all_util   \n",
       "4            annual_inc   \n",
       "\n",
       "                                                                     description  \n",
       "0                The number of accounts on which the borrower is now delinquent.  \n",
       "1                                     Number of trades opened in past 24 months.  \n",
       "2                     The state provided by the borrower in the loan application  \n",
       "3                                          Balance to credit limit on all trades  \n",
       "4  The self-reported annual income provided by the borrower during registration.  "
      ]
     },
     "execution_count": 242,
     "metadata": {},
     "output_type": "execute_result"
    }
   ],
   "source": [
    "pd.set_option('max_colwidth', 1200) # controls output width; might need adjustment\n",
    "data_dictionary = pd.read_csv('LCDataDictionary.csv') # Loading in the data dictionary\n",
    "data_dictionary = data_dictionary.rename(columns={'LoanStatNew': 'name', 'Description': 'description'})\n",
    "data_dictionary.head()"
   ]
  },
  {
   "cell_type": "code",
   "execution_count": 243,
   "id": "d6848616",
   "metadata": {},
   "outputs": [],
   "source": [
    "# generate preview names + dtypes + first values + descriptions\n",
    "df_dtypes = pd.DataFrame(df.dtypes,columns=['dtypes'])\n",
    "df_dtypes = df_dtypes.reset_index()\n",
    "df_dtypes['name'] = df_dtypes['index']\n",
    "df_dtypes = df_dtypes[['name','dtypes']]\n",
    "df_dtypes['first value'] = df.loc[0].values\n",
    "preview = df_dtypes.merge(data_dictionary, on='name',how='left')"
   ]
  },
  {
   "cell_type": "code",
   "execution_count": 244,
   "id": "90d3d5f7",
   "metadata": {},
   "outputs": [
    {
     "data": {
      "text/html": [
       "<div>\n",
       "<style scoped>\n",
       "    .dataframe tbody tr th:only-of-type {\n",
       "        vertical-align: middle;\n",
       "    }\n",
       "\n",
       "    .dataframe tbody tr th {\n",
       "        vertical-align: top;\n",
       "    }\n",
       "\n",
       "    .dataframe thead th {\n",
       "        text-align: right;\n",
       "    }\n",
       "</style>\n",
       "<table border=\"1\" class=\"dataframe\">\n",
       "  <thead>\n",
       "    <tr style=\"text-align: right;\">\n",
       "      <th></th>\n",
       "      <th>name</th>\n",
       "      <th>dtypes</th>\n",
       "      <th>first value</th>\n",
       "      <th>description</th>\n",
       "    </tr>\n",
       "  </thead>\n",
       "  <tbody>\n",
       "    <tr>\n",
       "      <th>35</th>\n",
       "      <td>last_pymnt_amnt</td>\n",
       "      <td>float64</td>\n",
       "      <td>4361.82</td>\n",
       "      <td>Last total payment amount received</td>\n",
       "    </tr>\n",
       "    <tr>\n",
       "      <th>36</th>\n",
       "      <td>next_pymnt_d</td>\n",
       "      <td>object</td>\n",
       "      <td>NaN</td>\n",
       "      <td>Next scheduled payment date</td>\n",
       "    </tr>\n",
       "    <tr>\n",
       "      <th>37</th>\n",
       "      <td>last_credit_pull_d</td>\n",
       "      <td>object</td>\n",
       "      <td>Sep-2018</td>\n",
       "      <td>The most recent month LC pulled credit for this loan</td>\n",
       "    </tr>\n",
       "    <tr>\n",
       "      <th>38</th>\n",
       "      <td>collections_12_mths_ex_med</td>\n",
       "      <td>float64</td>\n",
       "      <td>0.0</td>\n",
       "      <td>Number of collections in 12 months excluding medical collections</td>\n",
       "    </tr>\n",
       "    <tr>\n",
       "      <th>39</th>\n",
       "      <td>policy_code</td>\n",
       "      <td>float64</td>\n",
       "      <td>1.0</td>\n",
       "      <td>publicly available policy_code=1\\nnew products not publicly available policy_code=2</td>\n",
       "    </tr>\n",
       "    <tr>\n",
       "      <th>40</th>\n",
       "      <td>application_type</td>\n",
       "      <td>object</td>\n",
       "      <td>Individual</td>\n",
       "      <td>Indicates whether the loan is an individual application or a joint application with two co-borrowers</td>\n",
       "    </tr>\n",
       "    <tr>\n",
       "      <th>41</th>\n",
       "      <td>annual_inc_joint</td>\n",
       "      <td>float64</td>\n",
       "      <td>NaN</td>\n",
       "      <td>The combined self-reported annual income provided by the co-borrowers during registration</td>\n",
       "    </tr>\n",
       "    <tr>\n",
       "      <th>42</th>\n",
       "      <td>dti_joint</td>\n",
       "      <td>float64</td>\n",
       "      <td>NaN</td>\n",
       "      <td>A ratio calculated using the co-borrowers' total monthly payments on the total debt obligations, excluding mortgages and the requested LC loan, divided by the co-borrowers' combined self-reported monthly income</td>\n",
       "    </tr>\n",
       "    <tr>\n",
       "      <th>43</th>\n",
       "      <td>verification_status_joint</td>\n",
       "      <td>object</td>\n",
       "      <td>NaN</td>\n",
       "      <td>NaN</td>\n",
       "    </tr>\n",
       "    <tr>\n",
       "      <th>44</th>\n",
       "      <td>acc_now_delinq</td>\n",
       "      <td>float64</td>\n",
       "      <td>0.0</td>\n",
       "      <td>The number of accounts on which the borrower is now delinquent.</td>\n",
       "    </tr>\n",
       "    <tr>\n",
       "      <th>45</th>\n",
       "      <td>tot_coll_amt</td>\n",
       "      <td>float64</td>\n",
       "      <td>0.0</td>\n",
       "      <td>Total collection amounts ever owed</td>\n",
       "    </tr>\n",
       "    <tr>\n",
       "      <th>46</th>\n",
       "      <td>tot_cur_bal</td>\n",
       "      <td>float64</td>\n",
       "      <td>86742.0</td>\n",
       "      <td>Total current balance of all accounts</td>\n",
       "    </tr>\n",
       "  </tbody>\n",
       "</table>\n",
       "</div>"
      ],
      "text/plain": [
       "                          name   dtypes first value  \\\n",
       "35             last_pymnt_amnt  float64     4361.82   \n",
       "36                next_pymnt_d   object         NaN   \n",
       "37          last_credit_pull_d   object    Sep-2018   \n",
       "38  collections_12_mths_ex_med  float64         0.0   \n",
       "39                 policy_code  float64         1.0   \n",
       "40            application_type   object  Individual   \n",
       "41            annual_inc_joint  float64         NaN   \n",
       "42                   dti_joint  float64         NaN   \n",
       "43   verification_status_joint   object         NaN   \n",
       "44              acc_now_delinq  float64         0.0   \n",
       "45                tot_coll_amt  float64         0.0   \n",
       "46                 tot_cur_bal  float64     86742.0   \n",
       "\n",
       "                                                                                                                                                                                                           description  \n",
       "35                                                                                                                                                                                  Last total payment amount received  \n",
       "36                                                                                                                                                                                         Next scheduled payment date  \n",
       "37                                                                                                                                                                The most recent month LC pulled credit for this loan  \n",
       "38                                                                                                                                                    Number of collections in 12 months excluding medical collections  \n",
       "39                                                                                                                                 publicly available policy_code=1\\nnew products not publicly available policy_code=2  \n",
       "40                                                                                                                Indicates whether the loan is an individual application or a joint application with two co-borrowers  \n",
       "41                                                                                                                           The combined self-reported annual income provided by the co-borrowers during registration  \n",
       "42  A ratio calculated using the co-borrowers' total monthly payments on the total debt obligations, excluding mortgages and the requested LC loan, divided by the co-borrowers' combined self-reported monthly income  \n",
       "43                                                                                                                                                                                                                 NaN  \n",
       "44                                                                                                                                                     The number of accounts on which the borrower is now delinquent.  \n",
       "45                                                                                                                                                                                  Total collection amounts ever owed  \n",
       "46                                                                                                                                                                               Total current balance of all accounts  "
      ]
     },
     "execution_count": 244,
     "metadata": {},
     "output_type": "execute_result"
    }
   ],
   "source": [
    "preview[35:47]"
   ]
  },
  {
   "cell_type": "markdown",
   "id": "79858351",
   "metadata": {},
   "source": [
    "## Features with a lot of missing values\n",
    "A global investigation into the missing values, using `plt.hist` from Matplotlib."
   ]
  },
  {
   "cell_type": "code",
   "execution_count": 245,
   "id": "780d4b38",
   "metadata": {},
   "outputs": [
    {
     "data": {
      "text/plain": [
       "0.31231605135846074"
      ]
     },
     "execution_count": 245,
     "metadata": {},
     "output_type": "execute_result"
    }
   ],
   "source": [
    "# Overall fraction of null values in the data\n",
    "(df.isnull().sum().sum())/(df.shape[0]*df.shape[1])"
   ]
  },
  {
   "cell_type": "code",
   "execution_count": 246,
   "id": "bdd9049a",
   "metadata": {},
   "outputs": [
    {
     "name": "stdout",
     "output_type": "stream",
     "text": [
      "Number of fields with more than 10% NAs: 40\n",
      "Number of fields with less than 1%% NAs: 74\n"
     ]
    },
    {
     "data": {
      "image/png": "[encoded data removed]",
      "text/plain": [
       "<Figure size 640x480 with 1 Axes>"
      ]
     },
     "metadata": {},
     "output_type": "display_data"
    }
   ],
   "source": [
    "# create overview of distribution of NAs over the variables:\n",
    "nullfrac= df.isnull().sum()/df.shape[0]\n",
    "plt.hist(nullfrac,bins=20)\n",
    "print(\"Number of fields with more than 10% NAs:\", sum(nullfrac>0.10))\n",
    "print(\"Number of fields with less than 1%% NAs:\", sum(nullfrac<0.001))"
   ]
  },
  {
   "cell_type": "code",
   "execution_count": 247,
   "id": "411b86e9",
   "metadata": {},
   "outputs": [],
   "source": [
    "# Example of how to drop the feature from a list\n",
    "drop_list = ['member_id']\n",
    "\n",
    "# Dropping all features that are missing more than 25% values missing\n",
    "#drop_list = [item for item in nullfrac.index if nullfrac[item] >= 0.25]\n",
    "df.drop(drop_list, axis=1, inplace=True)"
   ]
  },
  {
   "cell_type": "code",
   "execution_count": 248,
   "id": "0b34c05d",
   "metadata": {},
   "outputs": [
    {
     "data": {
      "text/plain": [
       "(217452, 123)"
      ]
     },
     "execution_count": 248,
     "metadata": {},
     "output_type": "execute_result"
    }
   ],
   "source": [
    "df.shape"
   ]
  },
  {
   "cell_type": "markdown",
   "id": "10db34c7",
   "metadata": {},
   "source": [
    "## Filtering on loan_status"
   ]
  },
  {
   "cell_type": "code",
   "execution_count": 249,
   "id": "afd74a64",
   "metadata": {
    "scrolled": true
   },
   "outputs": [
    {
     "data": {
      "text/plain": [
       "Fully Paid            112409\n",
       "Current                67079\n",
       "Charged Off            34358\n",
       "Late (31-120 days)      2252\n",
       "In Grace Period          885\n",
       "Late (16-30 days)        461\n",
       "Default                    8\n",
       "Name: loan_status, dtype: int64"
      ]
     },
     "execution_count": 249,
     "metadata": {},
     "output_type": "execute_result"
    }
   ],
   "source": [
    "df['loan_status'].value_counts()"
   ]
  },
  {
   "cell_type": "code",
   "execution_count": 250,
   "id": "7e4951ac",
   "metadata": {},
   "outputs": [
    {
     "data": {
      "text/html": [
       "<div>\n",
       "<style scoped>\n",
       "    .dataframe tbody tr th:only-of-type {\n",
       "        vertical-align: middle;\n",
       "    }\n",
       "\n",
       "    .dataframe tbody tr th {\n",
       "        vertical-align: top;\n",
       "    }\n",
       "\n",
       "    .dataframe thead th {\n",
       "        text-align: right;\n",
       "    }\n",
       "</style>\n",
       "<table border=\"1\" class=\"dataframe\">\n",
       "  <thead>\n",
       "    <tr style=\"text-align: right;\">\n",
       "      <th></th>\n",
       "      <th>Loan Status</th>\n",
       "      <th>Count</th>\n",
       "      <th>Meaning</th>\n",
       "    </tr>\n",
       "  </thead>\n",
       "  <tbody>\n",
       "    <tr>\n",
       "      <th>0</th>\n",
       "      <td>Fully Paid</td>\n",
       "      <td>112409</td>\n",
       "      <td>Loan has been fully paid off.</td>\n",
       "    </tr>\n",
       "    <tr>\n",
       "      <th>1</th>\n",
       "      <td>Current</td>\n",
       "      <td>67079</td>\n",
       "      <td>Loan is up to date on current payments.</td>\n",
       "    </tr>\n",
       "    <tr>\n",
       "      <th>2</th>\n",
       "      <td>Charged Off</td>\n",
       "      <td>34358</td>\n",
       "      <td>Loan for which there is no longer a reasonable expectation of further payments.</td>\n",
       "    </tr>\n",
       "    <tr>\n",
       "      <th>3</th>\n",
       "      <td>Late (31-120 days)</td>\n",
       "      <td>2252</td>\n",
       "      <td>Loan hasn't been paid in 31 to 120 days (late on the current payment).</td>\n",
       "    </tr>\n",
       "    <tr>\n",
       "      <th>4</th>\n",
       "      <td>In Grace Period</td>\n",
       "      <td>885</td>\n",
       "      <td>The loan is past due but still in the grace period of 15 days.</td>\n",
       "    </tr>\n",
       "    <tr>\n",
       "      <th>5</th>\n",
       "      <td>Late (16-30 days)</td>\n",
       "      <td>461</td>\n",
       "      <td>Loan hasn't been paid in 16 to 30 days (late on the current payment).</td>\n",
       "    </tr>\n",
       "    <tr>\n",
       "      <th>6</th>\n",
       "      <td>Default</td>\n",
       "      <td>8</td>\n",
       "      <td>Loan is defaulted on and no payment has been made for more than 121 days.</td>\n",
       "    </tr>\n",
       "  </tbody>\n",
       "</table>\n",
       "</div>"
      ],
      "text/plain": [
       "          Loan Status   Count  \\\n",
       "0          Fully Paid  112409   \n",
       "1             Current   67079   \n",
       "2         Charged Off   34358   \n",
       "3  Late (31-120 days)    2252   \n",
       "4     In Grace Period     885   \n",
       "5   Late (16-30 days)     461   \n",
       "6             Default       8   \n",
       "\n",
       "                                                                           Meaning  \n",
       "0                                                    Loan has been fully paid off.  \n",
       "1                                          Loan is up to date on current payments.  \n",
       "2  Loan for which there is no longer a reasonable expectation of further payments.  \n",
       "3           Loan hasn't been paid in 31 to 120 days (late on the current payment).  \n",
       "4                   The loan is past due but still in the grace period of 15 days.  \n",
       "5            Loan hasn't been paid in 16 to 30 days (late on the current payment).  \n",
       "6        Loan is defaulted on and no payment has been made for more than 121 days.  "
      ]
     },
     "execution_count": 250,
     "metadata": {},
     "output_type": "execute_result"
    }
   ],
   "source": [
    "# value counts, this time fancy in a Pandas data frame\n",
    "meaning = [\n",
    "\"Loan has been fully paid off.\",\n",
    "\"Loan is up to date on current payments.\",\n",
    "\"Loan for which there is no longer a reasonable expectation of further payments.\",\n",
    "\"Loan hasn't been paid in 31 to 120 days (late on the current payment).\",\n",
    "\"The loan is past due but still in the grace period of 15 days.\",\n",
    "\"Loan hasn't been paid in 16 to 30 days (late on the current payment).\",\n",
    "\"Loan is defaulted on and no payment has been made for more than 121 days.\"]\n",
    "status, count = df[\"loan_status\"].value_counts().index, df[\"loan_status\"].value_counts().values\n",
    "loan_statuses_explanation = pd.DataFrame({'Loan Status': status,'Count': count,'Meaning': meaning})[['Loan Status','Count','Meaning']]\n",
    "loan_statuses_explanation"
   ]
  },
  {
   "cell_type": "code",
   "execution_count": 251,
   "id": "ba2492a2",
   "metadata": {},
   "outputs": [
    {
     "name": "stdout",
     "output_type": "stream",
     "text": [
      "Index(['id', 'loan_amnt', 'term', 'int_rate', 'installment', 'grade',\n",
      "       'sub_grade', 'emp_title', 'emp_length', 'home_ownership',\n",
      "       ...\n",
      "       'hardship_payoff_balance_amount', 'hardship_last_payment_amount',\n",
      "       'disbursement_method', 'debt_settlement_flag',\n",
      "       'debt_settlement_flag_date', 'settlement_status', 'settlement_date',\n",
      "       'settlement_amount', 'settlement_percentage', 'settlement_term'],\n",
      "      dtype='object', length=123)\n"
     ]
    }
   ],
   "source": [
    "# Example of how you might do this. Complete? YES, further filtered loans on \"Default\"\n",
    "df = df[(df[\"loan_status\"] == \"Fully Paid\") | (df[\"loan_status\"] == \"Charged Off\") | (df[\"loan_status\"] == \"Default\")]\n",
    "mapping_dictionary = {\"loan_status\":{ \"Fully Paid\": 1, \"Charged Off\": 0, \"Default\": 0}}\n",
    "df = df.replace(mapping_dictionary)\n",
    "print(df.columns)"
   ]
  },
  {
   "cell_type": "markdown",
   "id": "f18b6406",
   "metadata": {},
   "source": [
    "## Preventing leakage"
   ]
  },
  {
   "cell_type": "code",
   "execution_count": 257,
   "id": "95390973",
   "metadata": {},
   "outputs": [],
   "source": [
    "# collect list of features that are not available at the application date\n",
    "drop_list1 = ['last_pymnt_amnt', 'last_pymnt_d', 'last_credit_pull_d', 'next_pymnt_d']\n",
    "df.drop(drop_list1, axis=1, inplace=True)"
   ]
  },
  {
   "cell_type": "markdown",
   "id": "11dde58f",
   "metadata": {},
   "source": [
    "## Dropping features of no/little predictive value"
   ]
  },
  {
   "cell_type": "code",
   "execution_count": 259,
   "id": "917bdbd2",
   "metadata": {},
   "outputs": [],
   "source": [
    "# COMPLETE!\n",
    "drop_list2 = ['id','disbursement_method', 'collections_12_mths_ex_med', 'desc', 'emp_title', 'issue_d', 'mo_sin_old_il_acct', 'mo_sin_old_rev_tl_op', 'mo_sin_rcnt_rev_tl_op', 'mo_sin_rcnt_tl', 'purpose', 'title', 'url', 'zip_code']\n",
    "df.drop(drop_list2, axis=1, inplace=True)"
   ]
  },
  {
   "cell_type": "markdown",
   "id": "f944c076",
   "metadata": {},
   "source": [
    "## Unbalanced features"
   ]
  },
  {
   "cell_type": "code",
   "execution_count": null,
   "id": "ab6ab261",
   "metadata": {},
   "outputs": [],
   "source": [
    "# an example of how to look at some value-counts\n",
    "for col in df.columns[26:31]:\n",
    "    print(df[col].value_counts())\n",
    "    print()"
   ]
  },
  {
   "cell_type": "code",
   "execution_count": null,
   "id": "648109e8",
   "metadata": {},
   "outputs": [],
   "source": [
    "# Example\n",
    "drop_list3 = ['initial_list_status']\n",
    "df.drop(drop_list3, axis=1, inplace=True)"
   ]
  },
  {
   "cell_type": "markdown",
   "id": "008124eb",
   "metadata": {},
   "source": [
    "## Highly correlated features"
   ]
  },
  {
   "cell_type": "code",
   "execution_count": null,
   "id": "6e657bc8",
   "metadata": {},
   "outputs": [],
   "source": [
    "# Checking correlation and using heatmap to visualise it.\n",
    "# First select a subset of the columns to keep the size of the correlation matrix low\n",
    "# Output looks a bit strange, is it OK?\n",
    "select = list(df.columns[45:65])     \n",
    "dfsel = df[select]\n",
    "sns.set(rc={'figure.figsize':(20,20)})\n",
    "sns.set_style('whitegrid')\n",
    "# Compute correlations and plot heatmap (exclude non-numeric features)\n",
    "correlations = dfsel.corr(numeric_only=True)\n",
    "sns.heatmap(correlations,annot=True)\n",
    "plt.show()"
   ]
  },
  {
   "cell_type": "markdown",
   "id": "57cce3d9",
   "metadata": {},
   "source": [
    "## Getting rid of the remaining missing values\n",
    "Upon first running, before (many) features have been dropped, the list below might/will still contain a large number of feature, many with a large number of missing values. This might indicate you have not cleaned enough in the earlier stages."
   ]
  },
  {
   "cell_type": "code",
   "execution_count": 193,
   "id": "54697b43",
   "metadata": {},
   "outputs": [
    {
     "data": {
      "text/plain": [
       "(146775, 123)"
      ]
     },
     "execution_count": 193,
     "metadata": {},
     "output_type": "execute_result"
    }
   ],
   "source": [
    "df.shape"
   ]
  },
  {
   "cell_type": "code",
   "execution_count": 202,
   "id": "ba3f9a43",
   "metadata": {},
   "outputs": [
    {
     "name": "stdout",
     "output_type": "stream",
     "text": [
      "There are 38 features that have missing values.\n",
      "38\n"
     ]
    }
   ],
   "source": [
    "# Create dataframe of null-counts and look at the numbers\n",
    "# This only makes sense when you have done most of the other cleaning\n",
    "NAcount= df.isnull().sum()\n",
    "# Counting features that have more than 25% of their values missing\n",
    "hasNAs = NAcount[NAcount >= 0.25 * len(df)]\n",
    "print(\"There are\", len(hasNAs), \"features that have missing values.\")\n",
    "b = pd.DataFrame(hasNAs,columns=['Number of null values'])\n",
    "b.sort_values(by=['Number of null values'],ascending=False)"
   ]
  },
  {
   "cell_type": "code",
   "execution_count": 203,
   "id": "c73f6857",
   "metadata": {},
   "outputs": [
    {
     "data": {
      "text/plain": [
       "(146775, 85)"
      ]
     },
     "execution_count": 203,
     "metadata": {},
     "output_type": "execute_result"
    }
   ],
   "source": [
    "# Dropping all features that are missing more than 25% values missing\n",
    "#drop_list = [item for item in nullfrac.index if nullfrac[item] >= 0.25]\n",
    "df.drop(b.index, axis=1, inplace=True)\n",
    "\n",
    "df.shape # check dimensions"
   ]
  },
  {
   "cell_type": "markdown",
   "id": "27b4ac1e",
   "metadata": {},
   "source": [
    "## Dates\n",
    "There may or may not be any date features left. Let's check the categorical features still present."
   ]
  },
  {
   "cell_type": "code",
   "execution_count": null,
   "id": "6a5faebf",
   "metadata": {},
   "outputs": [],
   "source": [
    "print(\"Data types and their frequency\\n{}\".format(df.dtypes.value_counts()))"
   ]
  },
  {
   "cell_type": "code",
   "execution_count": null,
   "id": "78cf7596",
   "metadata": {},
   "outputs": [],
   "source": [
    "# generate list of remaining categorical features\n",
    "# obcols = list(df.columns[df.dtypes == 'object'])\n",
    "# obcols"
   ]
  },
  {
   "cell_type": "code",
   "execution_count": null,
   "id": "b003face",
   "metadata": {},
   "outputs": [],
   "source": [
    "#for col in obcols:\n",
    "#    print(preview[preview.name == col][:])"
   ]
  },
  {
   "cell_type": "code",
   "execution_count": null,
   "id": "d9abd232",
   "metadata": {},
   "outputs": [],
   "source": [
    "# this is crummy code ... sorry\n",
    "pd.set_option('max_colwidth', 20)\n",
    "object_columns_df = df.select_dtypes(include=['object'])\n",
    "print(object_columns_df.iloc[0])"
   ]
  },
  {
   "cell_type": "code",
   "execution_count": null,
   "id": "822f56d0",
   "metadata": {},
   "outputs": [],
   "source": []
  }
 ],
 "metadata": {
  "kernelspec": {
   "display_name": "Python 3 (ipykernel)",
   "language": "python",
   "name": "python3"
  },
  "language_info": {
   "codemirror_mode": {
    "name": "ipython",
    "version": 3
   },
   "file_extension": ".py",
   "mimetype": "text/x-python",
   "name": "python",
   "nbconvert_exporter": "python",
   "pygments_lexer": "ipython3",
   "version": "3.9.13"
  }
 },
 "nbformat": 4,
 "nbformat_minor": 5
}
